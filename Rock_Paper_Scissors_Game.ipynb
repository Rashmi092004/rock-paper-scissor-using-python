{
  "nbformat": 4,
  "nbformat_minor": 0,
  "metadata": {
    "colab": {
      "provenance": []
    },
    "kernelspec": {
      "name": "python3",
      "display_name": "Python 3"
    },
    "widgets": {
      "application/vnd.jupyter.widget-state+json": {
        "e38de39f5c484a79973bdc3a28e1f7d5": {
          "model_module": "@jupyter-widgets/controls",
          "model_name": "HBoxModel",
          "model_module_version": "1.5.0",
          "state": {
            "_dom_classes": [],
            "_model_module": "@jupyter-widgets/controls",
            "_model_module_version": "1.5.0",
            "_model_name": "HBoxModel",
            "_view_count": null,
            "_view_module": "@jupyter-widgets/controls",
            "_view_module_version": "1.5.0",
            "_view_name": "HBoxView",
            "box_style": "",
            "children": [
              "IPY_MODEL_7a09de5062a74525835caa22613e3267",
              "IPY_MODEL_64c40bd5c5d34c9fb642513d2c08bb9d",
              "IPY_MODEL_385e547c511c447ebee1b586d275d73b"
            ],
            "layout": "IPY_MODEL_86740d324c5144289409d0777fca0819"
          }
        },
        "7a09de5062a74525835caa22613e3267": {
          "model_module": "@jupyter-widgets/controls",
          "model_name": "HTMLModel",
          "model_module_version": "1.5.0",
          "state": {
            "_dom_classes": [],
            "_model_module": "@jupyter-widgets/controls",
            "_model_module_version": "1.5.0",
            "_model_name": "HTMLModel",
            "_view_count": null,
            "_view_module": "@jupyter-widgets/controls",
            "_view_module_version": "1.5.0",
            "_view_name": "HTMLView",
            "description": "",
            "description_tooltip": null,
            "layout": "IPY_MODEL_c8e6d63cb90149e989c54267298e43a6",
            "placeholder": "​",
            "style": "IPY_MODEL_379c9195223d4423bf263f19253b1fec",
            "value": "100%"
          }
        },
        "64c40bd5c5d34c9fb642513d2c08bb9d": {
          "model_module": "@jupyter-widgets/controls",
          "model_name": "FloatProgressModel",
          "model_module_version": "1.5.0",
          "state": {
            "_dom_classes": [],
            "_model_module": "@jupyter-widgets/controls",
            "_model_module_version": "1.5.0",
            "_model_name": "FloatProgressModel",
            "_view_count": null,
            "_view_module": "@jupyter-widgets/controls",
            "_view_module_version": "1.5.0",
            "_view_name": "ProgressView",
            "bar_style": "success",
            "description": "",
            "description_tooltip": null,
            "layout": "IPY_MODEL_fe694d4eeb004526acf810bf11439a92",
            "max": 1,
            "min": 0,
            "orientation": "horizontal",
            "style": "IPY_MODEL_5208cc189f5848949226e844f6c92a45",
            "value": 1
          }
        },
        "385e547c511c447ebee1b586d275d73b": {
          "model_module": "@jupyter-widgets/controls",
          "model_name": "HTMLModel",
          "model_module_version": "1.5.0",
          "state": {
            "_dom_classes": [],
            "_model_module": "@jupyter-widgets/controls",
            "_model_module_version": "1.5.0",
            "_model_name": "HTMLModel",
            "_view_count": null,
            "_view_module": "@jupyter-widgets/controls",
            "_view_module_version": "1.5.0",
            "_view_name": "HTMLView",
            "description": "",
            "description_tooltip": null,
            "layout": "IPY_MODEL_5f5ebeed3a01499aab9d72f5e973f00e",
            "placeholder": "​",
            "style": "IPY_MODEL_604f26993eab4fbdb8728c0ad68d0033",
            "value": " 1/1 [00:04&lt;00:00,  4.40s/it]"
          }
        },
        "86740d324c5144289409d0777fca0819": {
          "model_module": "@jupyter-widgets/base",
          "model_name": "LayoutModel",
          "model_module_version": "1.2.0",
          "state": {
            "_model_module": "@jupyter-widgets/base",
            "_model_module_version": "1.2.0",
            "_model_name": "LayoutModel",
            "_view_count": null,
            "_view_module": "@jupyter-widgets/base",
            "_view_module_version": "1.2.0",
            "_view_name": "LayoutView",
            "align_content": null,
            "align_items": null,
            "align_self": null,
            "border": null,
            "bottom": null,
            "display": null,
            "flex": null,
            "flex_flow": null,
            "grid_area": null,
            "grid_auto_columns": null,
            "grid_auto_flow": null,
            "grid_auto_rows": null,
            "grid_column": null,
            "grid_gap": null,
            "grid_row": null,
            "grid_template_areas": null,
            "grid_template_columns": null,
            "grid_template_rows": null,
            "height": null,
            "justify_content": null,
            "justify_items": null,
            "left": null,
            "margin": null,
            "max_height": null,
            "max_width": null,
            "min_height": null,
            "min_width": null,
            "object_fit": null,
            "object_position": null,
            "order": null,
            "overflow": null,
            "overflow_x": null,
            "overflow_y": null,
            "padding": null,
            "right": null,
            "top": null,
            "visibility": null,
            "width": null
          }
        },
        "c8e6d63cb90149e989c54267298e43a6": {
          "model_module": "@jupyter-widgets/base",
          "model_name": "LayoutModel",
          "model_module_version": "1.2.0",
          "state": {
            "_model_module": "@jupyter-widgets/base",
            "_model_module_version": "1.2.0",
            "_model_name": "LayoutModel",
            "_view_count": null,
            "_view_module": "@jupyter-widgets/base",
            "_view_module_version": "1.2.0",
            "_view_name": "LayoutView",
            "align_content": null,
            "align_items": null,
            "align_self": null,
            "border": null,
            "bottom": null,
            "display": null,
            "flex": null,
            "flex_flow": null,
            "grid_area": null,
            "grid_auto_columns": null,
            "grid_auto_flow": null,
            "grid_auto_rows": null,
            "grid_column": null,
            "grid_gap": null,
            "grid_row": null,
            "grid_template_areas": null,
            "grid_template_columns": null,
            "grid_template_rows": null,
            "height": null,
            "justify_content": null,
            "justify_items": null,
            "left": null,
            "margin": null,
            "max_height": null,
            "max_width": null,
            "min_height": null,
            "min_width": null,
            "object_fit": null,
            "object_position": null,
            "order": null,
            "overflow": null,
            "overflow_x": null,
            "overflow_y": null,
            "padding": null,
            "right": null,
            "top": null,
            "visibility": null,
            "width": null
          }
        },
        "379c9195223d4423bf263f19253b1fec": {
          "model_module": "@jupyter-widgets/controls",
          "model_name": "DescriptionStyleModel",
          "model_module_version": "1.5.0",
          "state": {
            "_model_module": "@jupyter-widgets/controls",
            "_model_module_version": "1.5.0",
            "_model_name": "DescriptionStyleModel",
            "_view_count": null,
            "_view_module": "@jupyter-widgets/base",
            "_view_module_version": "1.2.0",
            "_view_name": "StyleView",
            "description_width": ""
          }
        },
        "fe694d4eeb004526acf810bf11439a92": {
          "model_module": "@jupyter-widgets/base",
          "model_name": "LayoutModel",
          "model_module_version": "1.2.0",
          "state": {
            "_model_module": "@jupyter-widgets/base",
            "_model_module_version": "1.2.0",
            "_model_name": "LayoutModel",
            "_view_count": null,
            "_view_module": "@jupyter-widgets/base",
            "_view_module_version": "1.2.0",
            "_view_name": "LayoutView",
            "align_content": null,
            "align_items": null,
            "align_self": null,
            "border": null,
            "bottom": null,
            "display": null,
            "flex": null,
            "flex_flow": null,
            "grid_area": null,
            "grid_auto_columns": null,
            "grid_auto_flow": null,
            "grid_auto_rows": null,
            "grid_column": null,
            "grid_gap": null,
            "grid_row": null,
            "grid_template_areas": null,
            "grid_template_columns": null,
            "grid_template_rows": null,
            "height": null,
            "justify_content": null,
            "justify_items": null,
            "left": null,
            "margin": null,
            "max_height": null,
            "max_width": null,
            "min_height": null,
            "min_width": null,
            "object_fit": null,
            "object_position": null,
            "order": null,
            "overflow": null,
            "overflow_x": null,
            "overflow_y": null,
            "padding": null,
            "right": null,
            "top": null,
            "visibility": null,
            "width": null
          }
        },
        "5208cc189f5848949226e844f6c92a45": {
          "model_module": "@jupyter-widgets/controls",
          "model_name": "ProgressStyleModel",
          "model_module_version": "1.5.0",
          "state": {
            "_model_module": "@jupyter-widgets/controls",
            "_model_module_version": "1.5.0",
            "_model_name": "ProgressStyleModel",
            "_view_count": null,
            "_view_module": "@jupyter-widgets/base",
            "_view_module_version": "1.2.0",
            "_view_name": "StyleView",
            "bar_color": null,
            "description_width": ""
          }
        },
        "5f5ebeed3a01499aab9d72f5e973f00e": {
          "model_module": "@jupyter-widgets/base",
          "model_name": "LayoutModel",
          "model_module_version": "1.2.0",
          "state": {
            "_model_module": "@jupyter-widgets/base",
            "_model_module_version": "1.2.0",
            "_model_name": "LayoutModel",
            "_view_count": null,
            "_view_module": "@jupyter-widgets/base",
            "_view_module_version": "1.2.0",
            "_view_name": "LayoutView",
            "align_content": null,
            "align_items": null,
            "align_self": null,
            "border": null,
            "bottom": null,
            "display": null,
            "flex": null,
            "flex_flow": null,
            "grid_area": null,
            "grid_auto_columns": null,
            "grid_auto_flow": null,
            "grid_auto_rows": null,
            "grid_column": null,
            "grid_gap": null,
            "grid_row": null,
            "grid_template_areas": null,
            "grid_template_columns": null,
            "grid_template_rows": null,
            "height": null,
            "justify_content": null,
            "justify_items": null,
            "left": null,
            "margin": null,
            "max_height": null,
            "max_width": null,
            "min_height": null,
            "min_width": null,
            "object_fit": null,
            "object_position": null,
            "order": null,
            "overflow": null,
            "overflow_x": null,
            "overflow_y": null,
            "padding": null,
            "right": null,
            "top": null,
            "visibility": null,
            "width": null
          }
        },
        "604f26993eab4fbdb8728c0ad68d0033": {
          "model_module": "@jupyter-widgets/controls",
          "model_name": "DescriptionStyleModel",
          "model_module_version": "1.5.0",
          "state": {
            "_model_module": "@jupyter-widgets/controls",
            "_model_module_version": "1.5.0",
            "_model_name": "DescriptionStyleModel",
            "_view_count": null,
            "_view_module": "@jupyter-widgets/base",
            "_view_module_version": "1.2.0",
            "_view_name": "StyleView",
            "description_width": ""
          }
        }
      }
    }
  },
  "cells": [
    {
      "cell_type": "markdown",
      "metadata": {
        "id": "yzdgU48F_NxJ"
      },
      "source": [
        "#Installing Required Python Modules\n",
        "##Python Modules\n",
        "A Python module is a Python file containing a set of functions and variables to be used in an application. \n",
        "\n",
        "There are multiple modules created by various users and groups that are available for free for general use. Using these modules, we can connect to commonly used applications without writing elaborate codes\n",
        "\n",
        "##PIP Install\n",
        "pip is the standard package manager for Python. It allows you to install and manage additional packages that are not part of the Python standard library.\n",
        "\n",
        "###Pycocotools\n",
        "Pycocotools is a specialized package that has certain functions we require to enable Google Colab to take input from our webcam\n",
        "\n",
        "###ffmpg\n",
        "Ffmpg is another specialized package that deals with saving videos and images. We need it because we are using one function to capture images from the webcam in Google Colab\n"
      ]
    },
    {
      "cell_type": "code",
      "metadata": {
        "colab": {
          "base_uri": "https://localhost:8080/"
        },
        "id": "F5pSCm04ugsH",
        "outputId": "d975e890-0108-4935-f6d6-7870268ccd09"
      },
      "source": [
        "!pip install pycocotools #needed to get webcam input\n",
        "!pip install ffmpeg"
      ],
      "execution_count": 1,
      "outputs": [
        {
          "output_type": "stream",
          "name": "stdout",
          "text": [
            "Looking in indexes: https://pypi.org/simple, https://us-python.pkg.dev/colab-wheels/public/simple/\n",
            "Requirement already satisfied: pycocotools in /usr/local/lib/python3.10/dist-packages (2.0.6)\n",
            "Requirement already satisfied: matplotlib>=2.1.0 in /usr/local/lib/python3.10/dist-packages (from pycocotools) (3.7.1)\n",
            "Requirement already satisfied: numpy in /usr/local/lib/python3.10/dist-packages (from pycocotools) (1.22.4)\n",
            "Requirement already satisfied: contourpy>=1.0.1 in /usr/local/lib/python3.10/dist-packages (from matplotlib>=2.1.0->pycocotools) (1.0.7)\n",
            "Requirement already satisfied: pyparsing>=2.3.1 in /usr/local/lib/python3.10/dist-packages (from matplotlib>=2.1.0->pycocotools) (3.0.9)\n",
            "Requirement already satisfied: pillow>=6.2.0 in /usr/local/lib/python3.10/dist-packages (from matplotlib>=2.1.0->pycocotools) (8.4.0)\n",
            "Requirement already satisfied: packaging>=20.0 in /usr/local/lib/python3.10/dist-packages (from matplotlib>=2.1.0->pycocotools) (23.1)\n",
            "Requirement already satisfied: kiwisolver>=1.0.1 in /usr/local/lib/python3.10/dist-packages (from matplotlib>=2.1.0->pycocotools) (1.4.4)\n",
            "Requirement already satisfied: cycler>=0.10 in /usr/local/lib/python3.10/dist-packages (from matplotlib>=2.1.0->pycocotools) (0.11.0)\n",
            "Requirement already satisfied: python-dateutil>=2.7 in /usr/local/lib/python3.10/dist-packages (from matplotlib>=2.1.0->pycocotools) (2.8.2)\n",
            "Requirement already satisfied: fonttools>=4.22.0 in /usr/local/lib/python3.10/dist-packages (from matplotlib>=2.1.0->pycocotools) (4.39.3)\n",
            "Requirement already satisfied: six>=1.5 in /usr/local/lib/python3.10/dist-packages (from python-dateutil>=2.7->matplotlib>=2.1.0->pycocotools) (1.16.0)\n",
            "Looking in indexes: https://pypi.org/simple, https://us-python.pkg.dev/colab-wheels/public/simple/\n",
            "Collecting ffmpeg\n",
            "  Downloading ffmpeg-1.4.tar.gz (5.1 kB)\n",
            "  Preparing metadata (setup.py) ... \u001b[?25l\u001b[?25hdone\n",
            "Building wheels for collected packages: ffmpeg\n",
            "  Building wheel for ffmpeg (setup.py) ... \u001b[?25l\u001b[?25hdone\n",
            "  Created wheel for ffmpeg: filename=ffmpeg-1.4-py3-none-any.whl size=6083 sha256=f3b4eaaa49ae8378fff5307fe13acd4b77fe58c96af0f27a6bca6dc71e057ae8\n",
            "  Stored in directory: /root/.cache/pip/wheels/8e/7a/69/cd6aeb83b126a7f04cbe7c9d929028dc52a6e7d525ff56003a\n",
            "Successfully built ffmpeg\n",
            "Installing collected packages: ffmpeg\n",
            "Successfully installed ffmpeg-1.4\n"
          ]
        }
      ]
    },
    {
      "cell_type": "markdown",
      "metadata": {
        "id": "PA37aqK7_UUP"
      },
      "source": [
        "#Mount Drive and define work directory"
      ]
    },
    {
      "cell_type": "code",
      "metadata": {
        "colab": {
          "base_uri": "https://localhost:8080/"
        },
        "id": "gOY5OZVAuqmQ",
        "outputId": "760f0588-7800-432e-d0ee-9d86119ede6c"
      },
      "source": [
        "from google.colab import drive\n",
        "drive.mount ('/content/drive')"
      ],
      "execution_count": 2,
      "outputs": [
        {
          "output_type": "stream",
          "name": "stdout",
          "text": [
            "Mounted at /content/drive\n"
          ]
        }
      ]
    },
    {
      "cell_type": "code",
      "metadata": {
        "id": "2qrrnaKxu6ml"
      },
      "source": [
        "import os\n",
        "work_dir = \"/content/drive/My Drive/SKILLIT Courses/AI Level 2/Final Project\"\n",
        "os.chdir(work_dir)"
      ],
      "execution_count": 3,
      "outputs": []
    },
    {
      "cell_type": "markdown",
      "metadata": {
        "id": "lwRP4NuO_rPy"
      },
      "source": [
        "#Imports"
      ]
    },
    {
      "cell_type": "code",
      "metadata": {
        "id": "V8e1b7pKvFt3",
        "colab": {
          "base_uri": "https://localhost:8080/"
        },
        "outputId": "a687b630-15a6-4d31-a0b4-85d38878d63c"
      },
      "source": [
        "from colab_utils import imshow, videoGrabber\n",
        "import numpy as np\n",
        "import matplotlib.pyplot as plt\n",
        "from google.colab import output       #used to clear screen\n",
        "\n",
        "%tensorflow_version 2.x\n",
        "import tensorflow as tf\n",
        "from tensorflow.keras import datasets, layers, models\n",
        "import matplotlib.pyplot as plt\n",
        "from tqdm.auto import tqdm            #used for creating a status bar indicating the progress of a certain activity\n",
        "import time\n",
        "import random"
      ],
      "execution_count": 4,
      "outputs": [
        {
          "output_type": "stream",
          "name": "stdout",
          "text": [
            "Colab only includes TensorFlow 2.x; %tensorflow_version has no effect.\n"
          ]
        }
      ]
    },
    {
      "cell_type": "markdown",
      "metadata": {
        "id": "ySaFDjxYANO2"
      },
      "source": [
        "#Define classes\n",
        "Here we define the classes in which we are going to classify our output into.\n",
        "```\n",
        "CLASS_NAME[0] = 'Paper'\n",
        "CLASS_NAME[1] = 'Rock'\n",
        "CLASS_NAME[2] = 'Scissor'\n",
        "```\n",
        "\n",
        "\n"
      ]
    },
    {
      "cell_type": "code",
      "metadata": {
        "id": "qLQ3y0TVyAVZ"
      },
      "source": [
        "CLASS_NAME = ['Paper', 'Rock', 'Scissor']"
      ],
      "execution_count": 5,
      "outputs": []
    },
    {
      "cell_type": "markdown",
      "metadata": {
        "id": "Vwr7jddnARqu"
      },
      "source": [
        "#Define image capture function\n",
        "We define a special function to capture certain number of images using the webcam.\n",
        "\n",
        "##videoGrabber()\n",
        "videoGrabber is a special function we've written to show the webcam stream in Google Colab. When using it in any other platform for Python, you will need a different function.\n",
        "\n",
        "##Function Working\n",
        "1. In this function, vid is the video stream from the webcam.\n",
        "2. In a for loop which captures **numImage** images:\n",
        "3. We convert the current image in the video vid into a numpy array\n",
        "4. And we append that numpy array to the end of existing empty images array **img[ ]**\n",
        "5. If the label has been supplied, we apply the label to **y[ ]**\n",
        "6. At the end, we return **img** and **y** as numpy arrays because numpy arrays are easier to convert and arrange than normal arrays"
      ]
    },
    {
      "cell_type": "code",
      "metadata": {
        "id": "4H9lezstyC0O"
      },
      "source": [
        "def capture_images(numImage=50,label='Null'):\n",
        "\n",
        "  vid = videoGrabber(showVideo=True,size = (224,224)) #We are using larger image size because that is required by Pre-made Model. \n",
        "  img=[]\n",
        "  y = []\n",
        "  \n",
        "  for x in tqdm(range(numImage)):\n",
        "    new_image = np.array(vid(0))\n",
        "    img.append(new_image)\n",
        "    if label!='Null':\n",
        "      y.append(label)\n",
        "  img = np.array(img)\n",
        "  y = np.array(y)\n",
        "  return img,y\n"
      ],
      "execution_count": 6,
      "outputs": []
    },
    {
      "cell_type": "markdown",
      "metadata": {
        "id": "6ufakzTnxBT-"
      },
      "source": [
        "#Loading the Model\n",
        "In the previous section, we've used **Tensorflow** to save our model. Therefore, now we're going to retrieve the model from our Google Drive (work dir).\n",
        "\n",
        "We now have a choice, we can use the model that we created from scratch or we could use the pre-made model.\n",
        "\n",
        "For this exercise, we'll be using the **premade_dir** model. However, you could change the code anytime to use your model as well."
      ]
    },
    {
      "cell_type": "code",
      "metadata": {
        "id": "MsBxtV_dgdzO"
      },
      "source": [
        "model = tf.keras.models.load_model('pre-made_model.h5')"
      ],
      "execution_count": 7,
      "outputs": []
    },
    {
      "cell_type": "code",
      "metadata": {
        "colab": {
          "base_uri": "https://localhost:8080/"
        },
        "id": "xm09Xqz8Jzly",
        "outputId": "f0b54e95-20c1-4685-dbbb-52f92741878f"
      },
      "source": [
        "model.summary()"
      ],
      "execution_count": 8,
      "outputs": [
        {
          "output_type": "stream",
          "name": "stdout",
          "text": [
            "Model: \"sequential\"\n",
            "_________________________________________________________________\n",
            " Layer (type)                Output Shape              Param #   \n",
            "=================================================================\n",
            " mobilenetv2_1.00_224 (Funct  (None, 7, 7, 1280)       2257984   \n",
            " ional)                                                          \n",
            "                                                                 \n",
            " global_average_pooling2d (G  (None, 1280)             0         \n",
            " lobalAveragePooling2D)                                          \n",
            "                                                                 \n",
            " dense (Dense)               (None, 3)                 3843      \n",
            "                                                                 \n",
            "=================================================================\n",
            "Total params: 2,261,827\n",
            "Trainable params: 3,843\n",
            "Non-trainable params: 2,257,984\n",
            "_________________________________________________________________\n"
          ]
        }
      ]
    },
    {
      "cell_type": "markdown",
      "metadata": {
        "id": "PL6PNaXDQ29D"
      },
      "source": [
        "#Creating the Game\n",
        "Now that the model is loaded, let's create a basic format of the game.\n",
        "\n",
        "##Algorithm\n",
        "\n",
        "\n",
        "```\n",
        "Step 1: Introduce the Game\n",
        "Step 2: Give a count down\n",
        "Step 3: Computer randomly chooses 'Rock', 'Paper' or 'Scissor'\n",
        "Step 4: Computer evaluates what was chosen by the user\n",
        "Step 5: Declare who wins\n",
        "Step 6: Play Again\n",
        "```\n",
        "\n",
        "\n"
      ]
    },
    {
      "cell_type": "code",
      "metadata": {
        "colab": {
          "base_uri": "https://localhost:8080/",
          "height": 69,
          "referenced_widgets": [
            "e38de39f5c484a79973bdc3a28e1f7d5",
            "7a09de5062a74525835caa22613e3267",
            "64c40bd5c5d34c9fb642513d2c08bb9d",
            "385e547c511c447ebee1b586d275d73b",
            "86740d324c5144289409d0777fca0819",
            "c8e6d63cb90149e989c54267298e43a6",
            "379c9195223d4423bf263f19253b1fec",
            "fe694d4eeb004526acf810bf11439a92",
            "5208cc189f5848949226e844f6c92a45",
            "5f5ebeed3a01499aab9d72f5e973f00e",
            "604f26993eab4fbdb8728c0ad68d0033"
          ]
        },
        "id": "x31zFMQWRdga",
        "outputId": "560532ba-2673-4f4d-858e-79023bea90ed"
      },
      "source": [
        "\n",
        "output.clear()\n",
        "print('***************************************************************')\n",
        "print('Welcome to Rock Paper Scissor!')\n",
        "print('***************************************************************')\n",
        "\n",
        "for i in range(3):\n",
        "    \n",
        "    time.sleep(1)\n",
        "    output.clear()\n",
        "    print('***************************************************************')\n",
        "    print('Welcome to Rock Paper Scissor!')\n",
        "    print('***************************************************************')\n",
        "    print(3-i)\n",
        "\n",
        "output.clear()\n",
        "print('ROCK - PAPER - SCISSOR ----- GO!')\n",
        "user_image, _= capture_images(1)  \n",
        "user_image = user_image/255\n",
        "prediction = model.predict(user_image)\n",
        "output.clear()\n",
        "user_selection = CLASS_NAME[np.argmax(prediction[0])]\n",
        "print(f'You have selected : {user_selection}')\n",
        "\n",
        "random_int = random.randint(0,2)\n",
        "computer_selection = CLASS_NAME[random_int]\n",
        "print(f'The computer has selected : {computer_selection}')\n",
        "\n",
        "if user_selection == 'Rock':\n",
        "  if computer_selection == 'Rock':\n",
        "    print(\"We both selected Rock... It's a TIE\")\n",
        "  if computer_selection == 'Paper':\n",
        "    print('Paper beats Rock! COMPUTER WINS')\n",
        "  if computer_selection == 'Scissor':\n",
        "    print('Rock beats Scissor! YOU WIN') \n",
        "\n",
        "if user_selection == 'Paper':\n",
        "  if computer_selection == 'Rock':\n",
        "    print(\"Paper beats Rock! YOU WIN\")\n",
        "  if computer_selection == 'Paper':\n",
        "    print(\"We both selected Paper... It's a TIE\")\n",
        "  if computer_selection == 'Scissor':\n",
        "    print('Scissor beats Paper! COMPUTER WINS')\n",
        "\n",
        "if user_selection == 'Scissor':\n",
        "  if computer_selection == 'Rock':\n",
        "    print(\"Rock beats Scissor! COMPUTER WINS\")\n",
        "  if computer_selection == 'Paper':\n",
        "    print(\"Scissor beats Paper! YOU WIN\")\n",
        "  if computer_selection == 'Scissor':\n",
        "    print(\"We both selected Scissor... It's a TIE\")\n",
        "\n",
        "\n",
        "\n",
        "\n"
      ],
      "execution_count": 9,
      "outputs": [
        {
          "output_type": "stream",
          "name": "stdout",
          "text": [
            "You have selected : Scissor\n",
            "The computer has selected : Paper\n",
            "Scissor beats Paper! YOU WIN\n"
          ]
        }
      ]
    }
  ]
}